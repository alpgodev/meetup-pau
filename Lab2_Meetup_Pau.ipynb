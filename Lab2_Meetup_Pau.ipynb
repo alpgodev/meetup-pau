{
 "cells": [
  {
   "cell_type": "markdown",
   "metadata": {},
   "source": [
    "_Ce notebook a été créé par Yann Vernaz (2017)._"
   ]
  },
  {
   "cell_type": "markdown",
   "metadata": {},
   "source": [
    "<center>\n",
    "<a href=\"https://www.meetup.com/fr-FR/Meetup-Machine-Learning-Pau/\" ><img src=\"img/meetup_logo.png\" style=\"float:left; max-width: 100px; display: inline\" alt=\"Meetup\"/></a> \n",
    "<a href=\"https://www.meetup.com/fr-FR/Meetup-Machine-Learning-Pau/\" ><img src=\"img/meetup_ML_pau.png\" style=\"float:center; max-width: 250px; display: inline\"  alt=\"Meetup Machine Learning Pau\"/></a>\n",
    "<a href=\"http://www.helioparc.com\" ><img src=\"img/helioparc_logo.svg\" style=\"float:right; max-width: 200px; display: inline\" alt=\"Technopole Héloparc\"/> </a>\n",
    "</center>\n",
    "<br>\n",
    "<hr>\n",
    "<center><h1>Optimisation distribuée avec Apache Spark</h1></center>\n",
    "<hr>\n",
    "<center><h2>Lab 2 - Distribution des algorithmes du Gradient</h2></center>\n",
    "<hr>"
   ]
  },
  {
   "cell_type": "markdown",
   "metadata": {},
   "source": [
    "Dans ce _Notebook_ nous implémentons les algorithmes du gradient en version distribuée sur Spark."
   ]
  },
  {
   "cell_type": "markdown",
   "metadata": {},
   "source": [
    "## Start Spark"
   ]
  },
  {
   "cell_type": "code",
   "execution_count": 1,
   "metadata": {},
   "outputs": [
    {
     "name": "stdout",
     "output_type": "stream",
     "text": [
      "PySpark version:2.2.0\n"
     ]
    }
   ],
   "source": [
    "from pyspark import SparkContext, SparkConf\n",
    "from pyspark.sql import SQLContext\n",
    "\n",
    "# using Spark local mode set to # cores on your machine\n",
    "conf = SparkConf()\n",
    "conf.setMaster(\"local[*]\")\n",
    "conf.setAppName(\"Meetup Machine Learning Pau\")\n",
    "\n",
    "sc = SparkContext(conf=conf)\n",
    "sqlContext = SQLContext(sc)\n",
    "\n",
    "print(\"PySpark version:\" + str(sc.version))"
   ]
  },
  {
   "cell_type": "code",
   "execution_count": 320,
   "metadata": {},
   "outputs": [],
   "source": [
    "import numpy as np\n",
    "np.set_printoptions(precision=8)\n",
    "from operator import add\n",
    "import timeit\n",
    "import utilsLab1\n",
    "import utilsLab2\n",
    "from imp import reload\n",
    "reload(utilsLab1)\n",
    "reload(utilsLab2)\n",
    "\n",
    "import matplotlib.pyplot as plt\n",
    "%matplotlib inline  "
   ]
  },
  {
   "cell_type": "markdown",
   "metadata": {},
   "source": [
    "## Les données"
   ]
  },
  {
   "cell_type": "code",
   "execution_count": 316,
   "metadata": {},
   "outputs": [
    {
     "name": "stdout",
     "output_type": "stream",
     "text": [
      "[Total set]     8444 examples (5622 in class +1, 2822 in class -1).\n",
      "[Training set]  7620 examples (5085 in class +1, 2535 in class -1).\n",
      "[Testing set]   824 examples (537 in class +1, 287 in class -1).\n"
     ]
    }
   ],
   "source": [
    "# read dataset\n",
    "labelPointRDD = utilsLab2.data_read_undersampling(sc, fileName=\"retail.csv\")\n",
    "numClass1 = labelPointRDD.map(lambda ex: ex.label==1.0).sum()\n",
    "numClass2 = labelPointRDD.map(lambda ex: ex.label==-1.0).sum()\n",
    "\n",
    "# scaled features\n",
    "data_scaled, numExamples, mean, std = utilsLab2.data_scaled(labelPointRDD)\n",
    "\n",
    "# trainind dataset (90%) and testing dataset (10%)\n",
    "weights = [.9, .1]\n",
    "#seed = 42\n",
    "\n",
    "trainRDD, testRDD = data_scaled.randomSplit(weights)\n",
    "\n",
    "numExamplestrain = trainRDD.count()\n",
    "numClass1train   = trainRDD.map(lambda ex: ex.label==1.0).sum()\n",
    "numClass2train   = trainRDD.map(lambda ex: ex.label==-1.0).sum()\n",
    "\n",
    "numExamplestest = testRDD.count()\n",
    "numClass1test   = testRDD.map(lambda ex: ex.label==1.0).sum()\n",
    "numClass2test   = testRDD.map(lambda ex: ex.label==-1.0).sum()\n",
    "\n",
    "print(\"[Total set]     %d examples (%d in class +1, %d in class -1).\" % (numExamples, numClass1, numClass2))\n",
    "print(\"[Training set]  %d examples (%d in class +1, %d in class -1).\" % (numExamplestrain, numClass1train, numClass2train))\n",
    "print(\"[Testing set]   %d examples (%d in class +1, %d in class -1).\" % (numExamplestest, numClass1test, numClass2test))"
   ]
  },
  {
   "cell_type": "markdown",
   "metadata": {},
   "source": [
    "## Oracles : $J_i(\\mathbf{w})$ et $\\nabla J_i(\\mathbf{w})$"
   ]
  },
  {
   "cell_type": "code",
   "execution_count": 43,
   "metadata": {},
   "outputs": [],
   "source": [
    "def Ji(example,w):\n",
    "    \"\"\"computes the logistic loss for a Labeled point.\"\"\"\n",
    "    #x = np.array(example.features)\n",
    "    x = example.features\n",
    "    y = example.label\n",
    "    #return np.log(1. + np.exp(-y*np.dot(x, w)))\n",
    "    return np.log(1. + np.exp(-y*x.dot(w)))\n",
    "\n",
    "def gradJi(example,w):\n",
    "    \"\"\"computes the gradient for a Labeled point.\"\"\"\n",
    "    #x = np.array(example.features)\n",
    "    x = example.features\n",
    "    y = example.label\n",
    "    #return -y*(1./ ( 1. + np.exp(y*np.dot(x, w))))*x\n",
    "    return (-y/( 1. + np.exp( y*x.dot(w))))*x.toArray()"
   ]
  },
  {
   "cell_type": "markdown",
   "metadata": {},
   "source": [
    "## Batch Gradient Descent"
   ]
  },
  {
   "cell_type": "code",
   "execution_count": 322,
   "metadata": {},
   "outputs": [
    {
     "name": "stdout",
     "output_type": "stream",
     "text": [
      "Upper bound on the Lipschitz constant L, Lb= 0.4025\n",
      "Learning rate : 2.4847\n"
     ]
    }
   ],
   "source": [
    "# Lipschitz upper bound\n",
    "Lb =  0.25*trainRDD.map(lambda ex: np.linalg.norm(ex.features,2)**2).max()\n",
    "print(\"Upper bound on the Lipschitz constant L, Lb=\", np.round(Lb,4))\n",
    "\n",
    "# learning rate\n",
    "LR = 1.0/Lb\n",
    "print(\"Learning rate :\", np.round(LR,4))"
   ]
  },
  {
   "cell_type": "code",
   "execution_count": 323,
   "metadata": {},
   "outputs": [],
   "source": [
    "def batchGD(data, w0=None, learningRate=0.02, momentum=0.0, nesterov=False,\n",
    "            lambda1=0.0, lambda2=0.0, iterations=100, sampleSize=0, progress=False):\n",
    "    \n",
    "    numFeatures = len(data.take(1)[0].features)\n",
    "    trainSize = data.count()\n",
    "    v = np.zeros(numFeatures)\n",
    "    if w0 is None:\n",
    "        w = np.random.normal(size=numFeatures)\n",
    "    else:\n",
    "        w = w0\n",
    "        \n",
    "    f = np.array([data.map(lambda ex: Ji(ex,w)).reduce(add)/trainSize + \\\n",
    "                  lambda1*np.linalg.norm(w,1) + 0.5*lambda2*np.dot(w,w)])\n",
    "    \n",
    "    ts = timeit.default_timer()\n",
    "    \n",
    "    for k in range(iterations):\n",
    "        \n",
    "        if nesterov:\n",
    "            w = w - momentum*v\n",
    "        \n",
    "        #wBroadcast = sc.broadcast(wb)\n",
    "        #gradient = data.map(lambda ex: gradJi(ex,wBroadcast.value)).reduce(add)/trainSize\n",
    "        gradient = data.map(lambda ex: gradJi(ex,w)).reduce(add)/trainSize + \\\n",
    "                   lambda1*np.sum(np.divide(w, np.sqrt(1. + np.power(w,2)))) + \\\n",
    "                   lambda2*w\n",
    "        v = momentum*v + learningRate*gradient\n",
    "        w += -v\n",
    "        \n",
    "        fval = np.array([data.map(lambda ex: Ji(ex,w)).reduce(add)/trainSize + \\\n",
    "                         lambda1*np.linalg.norm(w,1) + 0.5*lambda2*np.dot(w,w)]) \n",
    "        f = np.vstack((f, fval))\n",
    "        \n",
    "        #utilsLab1.show_progress2(k, fval, gradient)\n",
    "        \n",
    "        # progress trace\n",
    "        if (progress==True) and (k%(iterations/10)==0):\n",
    "            utilsLab1.show_progress2(k, fval, gradient)\n",
    "            \n",
    "    te = timeit.default_timer()\n",
    "    \n",
    "    if (progress==True):\n",
    "        print(\"\\n*** Gradient Descent *** (\", np.round(te-ts,2), \"seconds)\")\n",
    "        utilsLab1.show_progress2(k, fval, gradient)\n",
    "        \n",
    "    return w, f.reshape(iterations+1,)"
   ]
  },
  {
   "cell_type": "code",
   "execution_count": 335,
   "metadata": {},
   "outputs": [
    {
     "name": "stdout",
     "output_type": "stream",
     "text": [
      "Initialization, w0 = [-1.66403096 -0.45011324  0.91539222 -1.54381334  1.01951522  0.48308183\n",
      "  0.06631704 -0.32415294  0.12403511 -1.22604747 -0.04626501 -1.25618263]\n"
     ]
    }
   ],
   "source": [
    "W_INITIAL = np.random.normal(size=12)\n",
    "ITER_MAX = 1000\n",
    "print(\"Initialization, w0 =\", W_INITIAL)"
   ]
  },
  {
   "cell_type": "code",
   "execution_count": 336,
   "metadata": {},
   "outputs": [
    {
     "name": "stdout",
     "output_type": "stream",
     "text": [
      "epoch 1     f(w)=0.7786   Grad_f(w)=0.508107\n",
      "epoch 101   f(w)=0.6277   Grad_f(w)=0.005125\n",
      "epoch 201   f(w)=0.6212   Grad_f(w)=0.005055\n",
      "epoch 301   f(w)=0.6150   Grad_f(w)=0.004986\n",
      "epoch 401   f(w)=0.6089   Grad_f(w)=0.004917\n",
      "epoch 501   f(w)=0.6030   Grad_f(w)=0.004851\n",
      "epoch 601   f(w)=0.5972   Grad_f(w)=0.004785\n",
      "epoch 701   f(w)=0.5916   Grad_f(w)=0.004720\n",
      "epoch 801   f(w)=0.5861   Grad_f(w)=0.004657\n",
      "epoch 901   f(w)=0.5808   Grad_f(w)=0.004594\n",
      "\n",
      "*** Gradient Descent *** ( 102.77 seconds)\n",
      "epoch 1000  f(w)=0.5757   Grad_f(w)=0.004534\n"
     ]
    }
   ],
   "source": [
    "w_GD, f_GD = batchGD(trainRDD.cache(), w0=np.array(W_INITIAL),\n",
    "                     learningRate=LR, \n",
    "                     #lambda1=0.01, lambda2=0.005,\n",
    "                     iterations=ITER_MAX, progress=True)"
   ]
  },
  {
   "cell_type": "code",
   "execution_count": 337,
   "metadata": {},
   "outputs": [
    {
     "name": "stdout",
     "output_type": "stream",
     "text": [
      "epoch 1     f(w)=0.7786   Grad_f(w)=0.508107\n",
      "epoch 101   f(w)=0.5398   Grad_f(w)=0.004245\n",
      "epoch 201   f(w)=0.4747   Grad_f(w)=0.003299\n",
      "epoch 301   f(w)=0.4309   Grad_f(w)=0.002780\n",
      "epoch 401   f(w)=0.3987   Grad_f(w)=0.002429\n",
      "epoch 501   f(w)=0.3735   Grad_f(w)=0.002176\n",
      "epoch 601   f(w)=0.3530   Grad_f(w)=0.001985\n",
      "epoch 701   f(w)=0.3357   Grad_f(w)=0.001835\n",
      "epoch 801   f(w)=0.3208   Grad_f(w)=0.001713\n",
      "epoch 901   f(w)=0.3077   Grad_f(w)=0.001611\n",
      "\n",
      "*** Gradient Descent *** ( 104.16 seconds)\n",
      "epoch 1000  f(w)=0.2962   Grad_f(w)=0.001524\n"
     ]
    }
   ],
   "source": [
    "w_GD_Momentum, f_GD_Momentum = batchGD(trainRDD.cache(), w0=np.array(W_INITIAL),\n",
    "                                       learningRate=LR, momentum=0.9, nesterov=True,\n",
    "                                       #lambda1=0.01, lambda2=0.005,\n",
    "                                       iterations=ITER_MAX, progress=True)"
   ]
  },
  {
   "cell_type": "code",
   "execution_count": 338,
   "metadata": {},
   "outputs": [
    {
     "data": {
      "image/png": "[encoded data removed]",
      "text/plain": [
       "<matplotlib.figure.Figure at 0x7f6955020b00>"
      ]
     },
     "metadata": {},
     "output_type": "display_data"
    }
   ],
   "source": [
    "utilsLab1.iteration_plot(2, f=np.array([f_GD, f_GD_Momentum]).T,  \n",
    "                         label=[\"Gradient Descent\", \n",
    "                                \"Gradient Descent with momentum\"])"
   ]
  },
  {
   "cell_type": "markdown",
   "metadata": {},
   "source": [
    "## Mini-Batch Gradient Descent"
   ]
  },
  {
   "cell_type": "code",
   "execution_count": 328,
   "metadata": {},
   "outputs": [],
   "source": [
    "def miniBatchGD(data, w0=None, learningRate=0.02, momentum=0.0, nesterov=False, \n",
    "                lambda1=0.0, lambda2=0.0,\n",
    "                iterations=10, sampleSize=100, progress=False):\n",
    "    \n",
    "    numFeatures = len(data.take(1)[0].features)\n",
    "    trainSize = data.count()\n",
    "    fraction = float(sampleSize)/float(trainSize)\n",
    "    v = np.zeros(numFeatures)\n",
    "    if w0 is None:\n",
    "        w = np.random.normal(size=numFeatures)\n",
    "    else:\n",
    "        w = w0\n",
    "    \n",
    "    f = np.array([data.map(lambda ex: Ji(ex,w)).reduce(add)/trainSize + \\\n",
    "                  lambda1*np.linalg.norm(w,1) + 0.5*lambda2*np.dot(w,w)])\n",
    "    \n",
    "    ts = timeit.default_timer()\n",
    "    \n",
    "    for k in range(iterations):\n",
    "        \n",
    "        # choose randomly sampleSize examples (sampling)\n",
    "        sampleRDD = trainRDD.sample(True, fraction)\n",
    "        sampleSize = sampleRDD.count()\n",
    "        \n",
    "        if nesterov:\n",
    "            w = w - momentum*v\n",
    "        \n",
    "        #wBroadcast = sc.broadcast(w)\n",
    "        #gradient = sampleRDD.map(lambda ex: gradJi(ex,wBroadcast.value)).reduce(add)/sampleSize\n",
    "        gradient = sampleRDD.map(lambda ex: gradJi(ex,w)).reduce(add)/sampleSize + \\\n",
    "                    lambda1*np.sum(np.divide(w, np.sqrt(1. + np.power(w,2)))) + \\\n",
    "                    lambda2*w\n",
    "        v = momentum*v + learningRate*gradient\n",
    "        w += -v\n",
    "        \n",
    "        # for progress trace\n",
    "        gradient_logistic = data.map(lambda ex: gradJi(ex, w)).reduce(add)/trainSize\n",
    "        gval = data.map(lambda ex: gradJi(ex, w)).reduce(add)/trainSize + \\\n",
    "                lambda1*np.sum(np.divide(w, np.sqrt(1. + np.power(w,2)))) + \\\n",
    "                lambda2*w\n",
    "        fval = np.array([data.map(lambda ex: Ji(ex,w)).reduce(add)/trainSize + \\\n",
    "                         lambda1*np.linalg.norm(w,1) + 0.5*lambda2*np.dot(w,w)]) \n",
    "        f = np.vstack((f, fval))\n",
    "        \n",
    "        # progress trace\n",
    "        if (progress==True) and (k%(iterations/10)==0):\n",
    "            utilsLab1.show_progress2(k, fval, gval)\n",
    "    \n",
    "    te =  timeit.default_timer()  \n",
    "    \n",
    "    if (progress==True):\n",
    "        print(\"\\n*** Mini-Batch Gradient Descent *** (\", np.round(te-ts,2), \"seconds)\")\n",
    "        utilsLab1.show_progress2(k, fval, gval)\n",
    "        \n",
    "    return w,f.reshape(iterations+1,)"
   ]
  },
  {
   "cell_type": "code",
   "execution_count": 339,
   "metadata": {},
   "outputs": [
    {
     "name": "stdout",
     "output_type": "stream",
     "text": [
      "epoch 1     f(w)=0.7753   Grad_f(w)=0.263396\n",
      "epoch 101   f(w)=0.6277   Grad_f(w)=0.006123\n",
      "epoch 201   f(w)=0.6213   Grad_f(w)=0.006754\n",
      "epoch 301   f(w)=0.6151   Grad_f(w)=0.007133\n",
      "epoch 401   f(w)=0.6100   Grad_f(w)=0.022020\n",
      "epoch 501   f(w)=0.6033   Grad_f(w)=0.011561\n",
      "epoch 601   f(w)=0.5973   Grad_f(w)=0.005331\n",
      "epoch 701   f(w)=0.5917   Grad_f(w)=0.005629\n",
      "epoch 801   f(w)=0.5862   Grad_f(w)=0.004661\n",
      "epoch 901   f(w)=0.5809   Grad_f(w)=0.007940\n",
      "\n",
      "*** Mini-Batch Gradient Descent *** ( 228.53 seconds)\n",
      "epoch 1000  f(w)=0.5760   Grad_f(w)=0.012555\n"
     ]
    }
   ],
   "source": [
    "w_miniGD, f_miniGD = miniBatchGD(trainRDD.cache(), w0=np.array(W_INITIAL),\n",
    "                                 learningRate=LR, \n",
    "                                 #lambda1=0.01, lambda2=0.005,\n",
    "                                 iterations=ITER_MAX, sampleSize=1000, progress=True)"
   ]
  },
  {
   "cell_type": "code",
   "execution_count": 340,
   "metadata": {},
   "outputs": [
    {
     "name": "stdout",
     "output_type": "stream",
     "text": [
      "epoch 1     f(w)=0.7843   Grad_f(w)=0.271488\n",
      "epoch 101   f(w)=0.5399   Grad_f(w)=0.006193\n",
      "epoch 201   f(w)=0.4940   Grad_f(w)=0.084378\n",
      "epoch 301   f(w)=0.4323   Grad_f(w)=0.023582\n",
      "epoch 401   f(w)=0.3989   Grad_f(w)=0.011175\n",
      "epoch 501   f(w)=0.3734   Grad_f(w)=0.003801\n",
      "epoch 601   f(w)=0.3559   Grad_f(w)=0.033463\n",
      "epoch 701   f(w)=0.3369   Grad_f(w)=0.021499\n",
      "epoch 801   f(w)=0.3211   Grad_f(w)=0.012154\n",
      "epoch 901   f(w)=0.3075   Grad_f(w)=0.003381\n",
      "\n",
      "*** Mini-Batch Gradient Descent *** ( 225.27 seconds)\n",
      "epoch 1000  f(w)=0.2964   Grad_f(w)=0.011373\n"
     ]
    }
   ],
   "source": [
    "w_miniGD_m, f_miniGD_m = miniBatchGD(trainRDD.cache(), w0=np.array(W_INITIAL),\n",
    "                                     learningRate=LR, momentum=0.9, nesterov=True,\n",
    "                                     #lambda1=0.01, lambda2=0.005,\n",
    "                                     iterations=ITER_MAX, sampleSize=1000, progress=True)"
   ]
  },
  {
   "cell_type": "code",
   "execution_count": 341,
   "metadata": {},
   "outputs": [
    {
     "data": {
      "image/png": "[encoded data removed]",
      "text/plain": [
       "<matplotlib.figure.Figure at 0x7f6993ff2128>"
      ]
     },
     "metadata": {},
     "output_type": "display_data"
    }
   ],
   "source": [
    "utilsLab1.iteration_plot(4, f=np.array([f_GD, f_GD_Momentum, f_miniGD, f_miniGD_m]).T,  \n",
    "                         label=[\"Gradient Descent\", \n",
    "                                \"Gradient Descent with momentum\", \n",
    "                                \"Mini-Batch Gradient Descent\",\n",
    "                                \"Mini-Batch Gradient Descent with momentum\"])"
   ]
  },
  {
   "cell_type": "code",
   "execution_count": 342,
   "metadata": {},
   "outputs": [
    {
     "name": "stdout",
     "output_type": "stream",
     "text": [
      "Prediction accuracy: 92.35 %\n"
     ]
    }
   ],
   "source": [
    "wopt = w_miniGD_m\n",
    "prediction = testRDD.map(lambda ex: (ex.label == utilsLab1.prediction(ex.features,wopt))).collect()   \n",
    "print(\"Prediction accuracy:\", np.round(100.*sum(prediction)/len(prediction),2), \"%\")"
   ]
  },
  {
   "cell_type": "code",
   "execution_count": 343,
   "metadata": {},
   "outputs": [
    {
     "name": "stdout",
     "output_type": "stream",
     "text": [
      "Confusion matrix, without normalization\n",
      "[[228  59]\n",
      " [  4 533]]\n"
     ]
    },
    {
     "data": {
      "image/png": "[encoded data removed]",
      "text/plain": [
       "<matplotlib.figure.Figure at 0x7f695542a7b8>"
      ]
     },
     "metadata": {},
     "output_type": "display_data"
    }
   ],
   "source": [
    "from sklearn.metrics import confusion_matrix\n",
    "\n",
    "y_test = np.array(testRDD.map(lambda ex: ex.label).collect())\n",
    "y_pred = np.array(testRDD.map(lambda ex: utilsLab1.prediction(ex.features,wopt,threshold=0.5)).collect())\n",
    "cnf_matrix = confusion_matrix(y_test, y_pred)\n",
    "\n",
    "# Plot normalized confusion matrix\n",
    "class_names = [\"churn\", \"no churn\"]\n",
    "plt.figure()\n",
    "utilsLab1.plot_confusion_matrix(cnf_matrix, classes=class_names,\n",
    "                                title='Confusion matrix, without normalization')\n",
    "\n",
    "plt.show()"
   ]
  },
  {
   "cell_type": "code",
   "execution_count": 344,
   "metadata": {},
   "outputs": [],
   "source": [
    "# stop Spark\n",
    "sc.stop()"
   ]
  },
  {
   "cell_type": "markdown",
   "metadata": {},
   "source": [
    "# Références\n",
    "\n",
    "[1] HOGWILD!: A Lock-Free Approach to Parallelizing Stochastic Gradient Descent. Feng Niu, Benjamin Recht, Christopher Re, Stephen J. Wright - http://arxiv.org/abs/1106.5730\n",
    "\n",
    "[2] [Downpour SGD](http://static.googleusercontent.com/media/research.google.com/en//archive/large_deep_networks_nips2012.pdf) - Jeffrey Dean, Greg S. Corrado, Rajat Monga, Kai Chen, Matthieu Devin, Quoc V. Le, Mark Z. Mao, Marc Aurelio Ranzato, Andrew Senior, Paul Tucker, Ke Yang, and Andrew Y. Ng. Large Scale Distributed Deep Networks. NIPS 2012: Neural Information Processing Systems, pages 1–11, 2012."
   ]
  }
 ],
 "metadata": {
  "kernelspec": {
   "display_name": "Python 3",
   "language": "python",
   "name": "python3"
  },
  "language_info": {
   "codemirror_mode": {
    "name": "ipython",
    "version": 3
   },
   "file_extension": ".py",
   "mimetype": "text/x-python",
   "name": "python",
   "nbconvert_exporter": "python",
   "pygments_lexer": "ipython3",
   "version": "3.6.2"
  }
 },
 "nbformat": 4,
 "nbformat_minor": 1
}
