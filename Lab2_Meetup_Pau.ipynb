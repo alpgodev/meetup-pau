{
 "cells": [
  {
   "cell_type": "markdown",
   "metadata": {},
   "source": [
    "_Ce notebook a été créé par Yann Vernaz (2017)._"
   ]
  },
  {
   "cell_type": "markdown",
   "metadata": {},
   "source": [
    "<center>\n",
    "<a href=\"https://www.meetup.com/fr-FR/Meetup-Machine-Learning-Pau/\" ><img src=\"img/meetup_logo.png\" style=\"float:left; max-width: 100px; display: inline\" alt=\"Meetup\"/></a> \n",
    "<a href=\"https://www.meetup.com/fr-FR/Meetup-Machine-Learning-Pau/\" ><img src=\"img/meetup_ML_pau.png\" style=\"float:center; max-width: 250px; display: inline\"  alt=\"Meetup Machine Learning Pau\"/></a>\n",
    "<a href=\"http://www.helioparc.com\" ><img src=\"img/helioparc_logo.svg\" style=\"float:right; max-width: 200px; display: inline\" alt=\"Technopole Héloparc\"/> </a>\n",
    "</center>\n",
    "<br>\n",
    "<hr>\n",
    "<center><h1>Optimisation distribuée avec Apache Spark</h1></center>\n",
    "<hr>\n",
    "<center><h2>Lab 2 - Distribution des algorithmes du Gradient</h2></center>\n",
    "<hr>"
   ]
  },
  {
   "cell_type": "markdown",
   "metadata": {},
   "source": [
    "Dans ce _Notebook_ nous implémentons les algorithmes du gradient en version distribuée sur Spark."
   ]
  },
  {
   "cell_type": "markdown",
   "metadata": {},
   "source": [
    "## Start Spark"
   ]
  },
  {
   "cell_type": "code",
   "execution_count": 32,
   "metadata": {},
   "outputs": [
    {
     "name": "stdout",
     "output_type": "stream",
     "text": [
      "PySpark version:2.2.0\n"
     ]
    }
   ],
   "source": [
    "from pyspark import SparkContext, SparkConf\n",
    "from pyspark.sql import SQLContext\n",
    "\n",
    "# using Spark local mode set to # cores on your machine\n",
    "conf = SparkConf()\n",
    "conf.setMaster(\"local[*]\")\n",
    "conf.setAppName(\"Meetup Machine Learning Pau\")\n",
    "\n",
    "sc = SparkContext(conf=conf)\n",
    "sqlContext = SQLContext(sc)\n",
    "\n",
    "print(\"PySpark version:\" + str(sc.version))"
   ]
  },
  {
   "cell_type": "code",
   "execution_count": 114,
   "metadata": {},
   "outputs": [
    {
     "data": {
      "text/plain": [
       "<module 'utilsLab1' from '/home/jovyan/work/utilsLab1.py'>"
      ]
     },
     "execution_count": 114,
     "metadata": {},
     "output_type": "execute_result"
    }
   ],
   "source": [
    "import numpy as np\n",
    "from operator import add\n",
    "import timeit\n",
    "\n",
    "import utilsLab1\n",
    "import utilsLab2"
   ]
  },
  {
   "cell_type": "markdown",
   "metadata": {},
   "source": [
    "## Les données"
   ]
  },
  {
   "cell_type": "code",
   "execution_count": 182,
   "metadata": {},
   "outputs": [
    {
     "name": "stdout",
     "output_type": "stream",
     "text": [
      "[Total set]     57930 examples (2822 in class +1).\n",
      "[Training set]  40561 examples (2001 in class +1).\n",
      "[Testing set]   17369 examples (821 in class +1).\n"
     ]
    }
   ],
   "source": [
    "# read dataset\n",
    "labelPointRDD = utilsLab2.data_read(sc, fileName=\"retail.csv\")\n",
    "numClass1 = labelPointRDD.map(lambda ex: ex.label==1.0).sum()\n",
    "\n",
    "# scaled features\n",
    "data_scaled, numExamples, mean, std = utilsLab2.data_scaled(labelPointRDD)\n",
    "\n",
    "# trainind dataset (70%) and testing dataset (30%)\n",
    "weights = [.7, .3]\n",
    "seed = 42\n",
    "\n",
    "trainRDD, testRDD = data_scaled.randomSplit(weights, seed)\n",
    "\n",
    "numExamplestrain = trainRDD.count()\n",
    "numClass1train   = trainRDD.map(lambda ex: ex.label==1.0).sum()\n",
    "\n",
    "numExamplestest = testRDD.count()\n",
    "numClass1test   = testRDD.map(lambda ex: ex.label==1.0).sum()\n",
    "\n",
    "print(\"[Total set]     %d examples (%d in class +1).\" % (numExamples, numClass1))\n",
    "print(\"[Training set]  %d examples (%d in class +1).\" % (numExamplestrain, numClass1train))\n",
    "print(\"[Testing set]   %d examples (%d in class +1).\" % (numExamplestest, numClass1test))"
   ]
  },
  {
   "cell_type": "markdown",
   "metadata": {},
   "source": [
    "## Oracles : $J_i(\\mathbf{w})$ et $\\nabla J_i(\\mathbf{w})$"
   ]
  },
  {
   "cell_type": "code",
   "execution_count": 59,
   "metadata": {},
   "outputs": [],
   "source": [
    "def Ji(example,w):\n",
    "    \"\"\" Computes the logistic loss for a Labeled point\n",
    "    Args:\n",
    "        example: a labeled point\n",
    "        w: regressor\n",
    "    Returns:\n",
    "        float value: l \n",
    "    \"\"\"\n",
    "    x = example.features\n",
    "    y = example.label\n",
    "    \n",
    "    return np.log(  1. + np.exp( -y*x.dot(w) ) )\n",
    "\n",
    "def gradJi(example,w):\n",
    "    \"\"\" Computes the logistic gradient for a Labeled point\n",
    "    Args:\n",
    "        example: a labeled point\n",
    "        w: regressor\n",
    "    Returns:\n",
    "        float value: l \n",
    "    \"\"\"\n",
    "    x = example.features\n",
    "    y = example.label\n",
    "    \n",
    "    return x.toArray()*(-y/( 1. + np.exp( y*x.dot(w) ) ))"
   ]
  },
  {
   "cell_type": "markdown",
   "metadata": {},
   "source": [
    "## Batch Gradient Descent"
   ]
  },
  {
   "cell_type": "code",
   "execution_count": 188,
   "metadata": {},
   "outputs": [
    {
     "name": "stdout",
     "output_type": "stream",
     "text": [
      "Upper bound on the Lipschitz constant L, Lb= 0.304781386136\n",
      "Our learning rate is 3.281\n"
     ]
    }
   ],
   "source": [
    "# Lipschitz upper bound\n",
    "Lb =  0.25*trainRDD.map(lambda ex: np.linalg.norm(ex.features,2)**2).max()\n",
    "print(\"Upper bound on the Lipschitz constant L, Lb=\", Lb)\n",
    "\n",
    "# learning rate\n",
    "learningRate = 1.0/Lb\n",
    "print(\"Our learning rate is\", np.round(learningRate,4))"
   ]
  },
  {
   "cell_type": "code",
   "execution_count": 133,
   "metadata": {},
   "outputs": [],
   "source": [
    "def batchGD(data, w0=None, learningRate=0.05, momentum=0.0, nesterov=False,\n",
    "            lambda1=0.0, lambda2=0.0, \n",
    "            iterations=100, sampleSize=0, progress=False):\n",
    "    \n",
    "    numFeatures = len(data.take(1)[0].features)\n",
    "    trainSize = data.count()\n",
    "    v = np.zeros(numFeatures)\n",
    "    if w0 is None:\n",
    "        w = np.random.normal(size=numFeatures)\n",
    "    else:\n",
    "        w = w0\n",
    "    \n",
    "    f = np.array([data.map(lambda example: Ji(example, w)).reduce(add)/trainSize])\n",
    "    \n",
    "    ts = timeit.default_timer()\n",
    "    \n",
    "    for k in range(iterations):\n",
    "        \n",
    "        if nesterov:\n",
    "            w_nesterov = w - momentum*v\n",
    "        else:\n",
    "            w_nesterov = w\n",
    "        \n",
    "        #wBroadcast = sc.broadcast(w_nesterov)\n",
    "        #gradient = data.map(lambda example: gradJi(example, wBroadcast.value)).reduce(add)\n",
    "        gradient = data.map(lambda example: gradJi(example, w_nesterov)).reduce(add)\n",
    "        v = momentum*v + learningRate*gradient/trainSize\n",
    "        w += -v\n",
    "        \n",
    "        fval = np.array([data.map(lambda example: Ji(example, w)).reduce(add)/trainSize])\n",
    "        f = np.vstack((f, fval))\n",
    "        \n",
    "        # progress trace\n",
    "        if (progress==True) and (k%(iterations/10)==0):\n",
    "            utilsLab1.show_progress2(k, fval, gradient)\n",
    "            \n",
    "    te = timeit.default_timer()\n",
    "    \n",
    "    if (progress==True):\n",
    "        print(\"\\n*** Gradient Descent *** (\", np.round(te-ts,2), \"seconds)\")\n",
    "        utilsLab1.show_progress2(k, fval, gradient)\n",
    "        \n",
    "    return w, f.reshape(iterations+1,)"
   ]
  },
  {
   "cell_type": "code",
   "execution_count": 134,
   "metadata": {},
   "outputs": [
    {
     "name": "stdout",
     "output_type": "stream",
     "text": [
      "Poids initial, w0 = [-0.53583521 -1.84186361  1.34641472 -2.49509416  0.9160776  -1.33194047\n",
      "  2.2219361  -1.23001497  0.27700483  0.70500844 -0.67346035  1.72384405]\n"
     ]
    }
   ],
   "source": [
    "W_INITIAL = np.random.normal(size=12)\n",
    "ITER_MAX = 200\n",
    "print(\"Poids initial, w0 =\", W_INITIAL)"
   ]
  },
  {
   "cell_type": "code",
   "execution_count": 135,
   "metadata": {},
   "outputs": [
    {
     "name": "stdout",
     "output_type": "stream",
     "text": [
      "epoch 1     f(w)=0.7045   Grad_f(w)=1253.710057\n",
      "epoch 21    f(w)=0.6750   Grad_f(w)=575.989458\n",
      "epoch 41    f(w)=0.6677   Grad_f(w)=331.050082\n",
      "epoch 61    f(w)=0.6648   Grad_f(w)=225.626627\n",
      "epoch 81    f(w)=0.6633   Grad_f(w)=169.406793\n",
      "epoch 101   f(w)=0.6624   Grad_f(w)=134.999883\n",
      "epoch 121   f(w)=0.6618   Grad_f(w)=111.941002\n",
      "epoch 141   f(w)=0.6613   Grad_f(w)=95.475526\n",
      "epoch 161   f(w)=0.6610   Grad_f(w)=83.158360\n",
      "epoch 181   f(w)=0.6608   Grad_f(w)=73.611799\n",
      "\n",
      "*** Gradient Descent *** ( 59.22 seconds)\n",
      "epoch 200   f(w)=0.6606   Grad_f(w)=66.346919\n"
     ]
    }
   ],
   "source": [
    "w_GD, f_GD = batchGD(trainRDD.cache(), w0=np.array(W_INITIAL),\n",
    "                     learningRate=alpha,\n",
    "                     iterations=ITER_MAX, progress=True)"
   ]
  },
  {
   "cell_type": "code",
   "execution_count": 172,
   "metadata": {},
   "outputs": [
    {
     "name": "stdout",
     "output_type": "stream",
     "text": [
      "epoch 1     f(w)=0.7045   Grad_f(w)=1253.710057\n",
      "epoch 21    f(w)=0.6595   Grad_f(w)=23.443435\n",
      "epoch 41    f(w)=0.6591   Grad_f(w)=7.827794\n",
      "epoch 61    f(w)=0.6591   Grad_f(w)=6.145718\n",
      "epoch 81    f(w)=0.6591   Grad_f(w)=5.479653\n",
      "epoch 101   f(w)=0.6591   Grad_f(w)=5.006801\n",
      "epoch 121   f(w)=0.6591   Grad_f(w)=4.618101\n",
      "epoch 141   f(w)=0.6591   Grad_f(w)=4.287256\n",
      "epoch 161   f(w)=0.6591   Grad_f(w)=4.001413\n",
      "epoch 181   f(w)=0.6590   Grad_f(w)=3.751802\n",
      "\n",
      "*** Gradient Descent *** ( 57.34 seconds)\n",
      "epoch 200   f(w)=0.6590   Grad_f(w)=3.542252\n"
     ]
    }
   ],
   "source": [
    "w_GD_Momentum, f_GD_Momentum = batchGD(trainRDD.cache(), w0=np.array(W_INITIAL),\n",
    "                                       learningRate=alpha, momentum=0.9, nesterov=True,\n",
    "                                       iterations=ITER_MAX, progress=True)"
   ]
  },
  {
   "cell_type": "code",
   "execution_count": 179,
   "metadata": {},
   "outputs": [
    {
     "data": {
      "image/png": "[encoded data removed]",
      "text/plain": [
       "<matplotlib.figure.Figure at 0x7ff7b6cdc710>"
      ]
     },
     "metadata": {},
     "output_type": "display_data"
    }
   ],
   "source": [
    "utilsLab1.iteration_plot(2, f=np.array([f_GD, f_GD_Momentum]).T,  \n",
    "                         label=[\"Gradient Descent\", \n",
    "                                \"Gradient Descent with momentum\"])"
   ]
  },
  {
   "cell_type": "markdown",
   "metadata": {},
   "source": [
    "## Mini-Batch Gradient Descent"
   ]
  },
  {
   "cell_type": "code",
   "execution_count": 163,
   "metadata": {},
   "outputs": [],
   "source": [
    "def miniBatchGD(data, w0=None, learningRate=0.02, momentum=0.0, nesterov=False, \n",
    "                lambda1=0.0, lambda2=0.0,\n",
    "                iterations=10, sampleSize=100, progress=False):\n",
    "    \n",
    "    numFeatures = len(data.take(1)[0].features)\n",
    "    trainSize = data.count()\n",
    "    v = np.zeros(numFeatures)\n",
    "    if w0 is None:\n",
    "        w = np.random.normal(size=numFeatures)\n",
    "    else:\n",
    "        w = w0\n",
    "    \n",
    "    f = np.array([data.map(lambda example: Ji(example, w)).reduce(add)/trainSize])   \n",
    "    \n",
    "    ts = timeit.default_timer()\n",
    "    \n",
    "    for k in range(iterations):\n",
    "        \n",
    "        # choose randomly sampleSize examples (sampling)\n",
    "        fraction = float(sampleSize)/float(trainSize)\n",
    "        sampleRDD = trainRDD.sample(False, fraction)\n",
    "        sampleSize = sampleRDD.count()\n",
    "        \n",
    "        if nesterov:\n",
    "            w_nesterov = w - momentum*v\n",
    "        else:\n",
    "            w_nesterov = w\n",
    "        \n",
    "        wBroadcast = sc.broadcast(w_nesterov)\n",
    "        gradient = sampleRDD.map(lambda example: gradJi(example, wBroadcast.value)).reduce(add)\n",
    "        #gradient = sampleRDD.map(lambda example: gradJi(example, w_nesterov)).reduce(add)\n",
    "        v = momentum*v + learningRate*gradient/sampleSize\n",
    "        w += -v\n",
    "        \n",
    "        fval = np.array([data.map(lambda example: Ji(example, w)).reduce(add)/trainSize])  \n",
    "        f = np.vstack((f, fval))\n",
    "        \n",
    "        # progress trace\n",
    "        if (progress==True) and (k%(iterations/10)==0):\n",
    "            utilsLab1.show_progress2(k, fval, gradient)\n",
    "    \n",
    "    te =  timeit.default_timer()  \n",
    "    \n",
    "    if (progress==True):\n",
    "        print(\"\\n*** Mini-Batch Gradient Descent *** (\", np.round(te-ts,2), \"seconds)\")\n",
    "        utilsLab1.show_progress2(k, fval, gradient)\n",
    "        \n",
    "    return w,f.reshape(iterations+1,)"
   ]
  },
  {
   "cell_type": "code",
   "execution_count": 167,
   "metadata": {},
   "outputs": [
    {
     "name": "stdout",
     "output_type": "stream",
     "text": [
      "epoch 1     f(w)=0.7048   Grad_f(w)=26.949330\n",
      "epoch 21    f(w)=0.6747   Grad_f(w)=17.893490\n",
      "epoch 41    f(w)=0.6674   Grad_f(w)=7.687878\n",
      "epoch 61    f(w)=0.6645   Grad_f(w)=5.210606\n",
      "epoch 81    f(w)=0.6631   Grad_f(w)=1.728514\n",
      "epoch 101   f(w)=0.6623   Grad_f(w)=1.914864\n",
      "epoch 121   f(w)=0.6617   Grad_f(w)=1.749742\n",
      "epoch 141   f(w)=0.6613   Grad_f(w)=1.216209\n",
      "epoch 161   f(w)=0.6610   Grad_f(w)=1.022478\n",
      "epoch 181   f(w)=0.6608   Grad_f(w)=0.861695\n",
      "\n",
      "*** Mini-Batch Gradient Descent *** ( 56.97 seconds)\n",
      "epoch 200   f(w)=0.6606   Grad_f(w)=0.781786\n"
     ]
    }
   ],
   "source": [
    "w_miniGD, f_miniGD = miniBatchGD(trainRDD.cache(), w0=np.array(W_INITIAL),\n",
    "                                 learningRate=alpha,\n",
    "                                 iterations=ITER_MAX, sampleSize=1000, progress=True)"
   ]
  },
  {
   "cell_type": "code",
   "execution_count": 168,
   "metadata": {},
   "outputs": [
    {
     "name": "stdout",
     "output_type": "stream",
     "text": [
      "epoch 1     f(w)=0.7052   Grad_f(w)=24.460228\n",
      "epoch 21    f(w)=0.6596   Grad_f(w)=0.782497\n",
      "epoch 41    f(w)=0.6592   Grad_f(w)=0.231299\n",
      "epoch 61    f(w)=0.6591   Grad_f(w)=0.179140\n",
      "epoch 81    f(w)=0.6591   Grad_f(w)=0.138757\n",
      "epoch 101   f(w)=0.6591   Grad_f(w)=0.100540\n",
      "epoch 121   f(w)=0.6591   Grad_f(w)=0.097338\n",
      "epoch 141   f(w)=0.6591   Grad_f(w)=0.083117\n",
      "epoch 161   f(w)=0.6591   Grad_f(w)=0.075927\n",
      "epoch 181   f(w)=0.6590   Grad_f(w)=0.068592\n",
      "\n",
      "*** Mini-Batch Gradient Descent *** ( 58.19 seconds)\n",
      "epoch 200   f(w)=0.6590   Grad_f(w)=0.038117\n"
     ]
    }
   ],
   "source": [
    "w_miniGD_m, f_miniGD_m = miniBatchGD(trainRDD.cache(), w0=np.array(W_INITIAL),\n",
    "                                     learningRate=alpha, momentum=0.9, nesterov=True,\n",
    "                                     iterations=ITER_MAX, sampleSize=1000, progress=True)"
   ]
  },
  {
   "cell_type": "code",
   "execution_count": 178,
   "metadata": {},
   "outputs": [
    {
     "data": {
      "image/png": "[encoded data removed]",
      "text/plain": [
       "<matplotlib.figure.Figure at 0x7ff7b6acf1d0>"
      ]
     },
     "metadata": {},
     "output_type": "display_data"
    }
   ],
   "source": [
    "utilsLab1.iteration_plot(4, f=np.array([f_GD, f_GD_Momentum, f_miniGD, f_miniGD_m]).T,  \n",
    "                         label=[\"Gradient Descent\", \n",
    "                                \"Gradient Descent with momentum\", \n",
    "                                \"Mini-Batch Gradient Descent\",\n",
    "                                \"Mini-Batch Gradient Descent with momentum\"])"
   ]
  },
  {
   "cell_type": "markdown",
   "metadata": {},
   "source": [
    "## FISTA"
   ]
  },
  {
   "cell_type": "code",
   "execution_count": null,
   "metadata": {},
   "outputs": [],
   "source": [
    "TODO TODO"
   ]
  },
  {
   "cell_type": "code",
   "execution_count": 189,
   "metadata": {},
   "outputs": [],
   "source": [
    "# stop Spark\n",
    "sc.stop()"
   ]
  },
  {
   "cell_type": "markdown",
   "metadata": {},
   "source": [
    "# Références\n",
    "\n",
    "[1] HOGWILD!: A Lock-Free Approach to Parallelizing Stochastic Gradient Descent. Feng Niu, Benjamin Recht, Christopher Re, Stephen J. Wright - http://arxiv.org/abs/1106.5730\n",
    "\n",
    "[2] [Downpour SGD](http://static.googleusercontent.com/media/research.google.com/en//archive/large_deep_networks_nips2012.pdf) - Jeffrey Dean, Greg S. Corrado, Rajat Monga, Kai Chen, Matthieu Devin, Quoc V. Le, Mark Z. Mao, Marc Aurelio Ranzato, Andrew Senior, Paul Tucker, Ke Yang, and Andrew Y. Ng. Large Scale Distributed Deep Networks. NIPS 2012: Neural Information Processing Systems, pages 1–11, 2012."
   ]
  }
 ],
 "metadata": {
  "kernelspec": {
   "display_name": "Python 3",
   "language": "python",
   "name": "python3"
  },
  "language_info": {
   "codemirror_mode": {
    "name": "ipython",
    "version": 3
   },
   "file_extension": ".py",
   "mimetype": "text/x-python",
   "name": "python",
   "nbconvert_exporter": "python",
   "pygments_lexer": "ipython3",
   "version": "3.6.2"
  }
 },
 "nbformat": 4,
 "nbformat_minor": 1
}
