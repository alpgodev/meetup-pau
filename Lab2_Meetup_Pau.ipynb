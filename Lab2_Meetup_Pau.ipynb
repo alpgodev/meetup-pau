{
 "cells": [
  {
   "cell_type": "markdown",
   "metadata": {},
   "source": [
    "_Ce notebook a été créé par Yann Vernaz (2017)._"
   ]
  },
  {
   "cell_type": "markdown",
   "metadata": {},
   "source": [
    "<center>\n",
    "<a href=\"https://www.meetup.com/fr-FR/Meetup-Machine-Learning-Pau/\" ><img src=\"img/meetup_logo.png\" style=\"float:left; max-width: 100px; display: inline\" alt=\"Meetup\"/></a> \n",
    "<a href=\"https://www.meetup.com/fr-FR/Meetup-Machine-Learning-Pau/\" ><img src=\"img/meetup_ML_pau.png\" style=\"float:center; max-width: 250px; display: inline\"  alt=\"Meetup Machine Learning Pau\"/></a>\n",
    "<a href=\"http://www.helioparc.com\" ><img src=\"img/helioparc_logo.svg\" style=\"float:right; max-width: 200px; display: inline\" alt=\"Technopole Héloparc\"/> </a>\n",
    "</center>\n",
    "<br>\n",
    "<hr>\n",
    "<center><h1>Optimisation distribuée avec Apache Spark</h1></center>\n",
    "<hr>\n",
    "<center><h2>Lab 2 - Distribution des algorithmes du Gradient</h2></center>\n",
    "<hr>"
   ]
  },
  {
   "cell_type": "markdown",
   "metadata": {},
   "source": [
    "Dans ce _Notebook_ nous implémentons les algorithmes du gradient en version distribuée sur Spark."
   ]
  },
  {
   "cell_type": "markdown",
   "metadata": {},
   "source": [
    "## Start Spark"
   ]
  },
  {
   "cell_type": "code",
   "execution_count": 1,
   "metadata": {},
   "outputs": [
    {
     "name": "stdout",
     "output_type": "stream",
     "text": [
      "PySpark version:2.2.0\n"
     ]
    }
   ],
   "source": [
    "from pyspark import SparkContext, SparkConf\n",
    "from pyspark.sql import SQLContext\n",
    "\n",
    "# using Spark local mode set to # cores on your machine\n",
    "conf = SparkConf()\n",
    "conf.setMaster(\"local[*]\")\n",
    "conf.setAppName(\"Meetup Machine Learning Pau\")\n",
    "\n",
    "sc = SparkContext(conf=conf)\n",
    "sqlContext = SQLContext(sc)\n",
    "\n",
    "print(\"PySpark version:\" + str(sc.version))"
   ]
  },
  {
   "cell_type": "code",
   "execution_count": 2,
   "metadata": {},
   "outputs": [],
   "source": [
    "import numpy as np\n",
    "np.set_printoptions(precision=8)\n",
    "from operator import add\n",
    "import timeit\n",
    "import utilsLab1\n",
    "import utilsLab2\n",
    "import matplotlib.pyplot as plt\n",
    "%matplotlib inline  "
   ]
  },
  {
   "cell_type": "markdown",
   "metadata": {},
   "source": [
    "## Les données"
   ]
  },
  {
   "cell_type": "code",
   "execution_count": 3,
   "metadata": {},
   "outputs": [
    {
     "name": "stdout",
     "output_type": "stream",
     "text": [
      "[Total set]     8348 examples (5526 in class +1, 2822 in class -1).\n",
      "[Training set]  7513 examples (4954 in class +1, 2559 in class -1).\n",
      "[Testing set]   835 examples (572 in class +1, 263 in class -1).\n"
     ]
    }
   ],
   "source": [
    "# read dataset\n",
    "labelPointRDD = utilsLab2.data_read_undersampling(sc, fileName=\"retail.csv\")\n",
    "numClass1 = labelPointRDD.map(lambda ex: ex.label==1.0).sum()\n",
    "numClass2 = labelPointRDD.map(lambda ex: ex.label==-1.0).sum()\n",
    "\n",
    "# scaled features\n",
    "data_scaled, numExamples, mean, std = utilsLab2.data_scaled(labelPointRDD)\n",
    "\n",
    "# trainind dataset (90%) and testing dataset (10%)\n",
    "weights = [.9, .1]\n",
    "#seed = 42\n",
    "\n",
    "trainRDD, testRDD = data_scaled.randomSplit(weights)\n",
    "\n",
    "numExamplestrain = trainRDD.count()\n",
    "numClass1train   = trainRDD.map(lambda ex: ex.label==1.0).sum()\n",
    "numClass2train   = trainRDD.map(lambda ex: ex.label==-1.0).sum()\n",
    "\n",
    "numExamplestest = testRDD.count()\n",
    "numClass1test   = testRDD.map(lambda ex: ex.label==1.0).sum()\n",
    "numClass2test   = testRDD.map(lambda ex: ex.label==-1.0).sum()\n",
    "\n",
    "print(\"[Total set]     %d examples (%d in class +1, %d in class -1).\" % (numExamples, numClass1, numClass2))\n",
    "print(\"[Training set]  %d examples (%d in class +1, %d in class -1).\" % (numExamplestrain, numClass1train, numClass2train))\n",
    "print(\"[Testing set]   %d examples (%d in class +1, %d in class -1).\" % (numExamplestest, numClass1test, numClass2test))"
   ]
  },
  {
   "cell_type": "markdown",
   "metadata": {},
   "source": [
    "## Oracles : $J_i(\\mathbf{w})$ et $\\nabla J_i(\\mathbf{w})$"
   ]
  },
  {
   "cell_type": "code",
   "execution_count": 4,
   "metadata": {},
   "outputs": [],
   "source": [
    "def Ji(example,w):\n",
    "    \"\"\"computes the logistic loss for a Labeled point.\"\"\"\n",
    "    x = example.features\n",
    "    y = example.label\n",
    "    return np.log(1. + np.exp(-y*x.dot(w)))\n",
    "\n",
    "def gradJi(example,w):\n",
    "    \"\"\"computes the gradient for a Labeled point.\"\"\"\n",
    "    x = example.features\n",
    "    y = example.label\n",
    "    return (-y/( 1. + np.exp( y*x.dot(w))))*x.toArray()"
   ]
  },
  {
   "cell_type": "markdown",
   "metadata": {},
   "source": [
    "## Batch Gradient Descent"
   ]
  },
  {
   "cell_type": "code",
   "execution_count": 5,
   "metadata": {},
   "outputs": [
    {
     "name": "stdout",
     "output_type": "stream",
     "text": [
      "Upper bound on the Lipschitz constant L, Lb= 0.3974\n",
      "Learning rate : 2.5164\n"
     ]
    }
   ],
   "source": [
    "# Lipschitz upper bound\n",
    "Lb =  0.25*trainRDD.map(lambda ex: np.linalg.norm(ex.features,2)**2).max()\n",
    "print(\"Upper bound on the Lipschitz constant L, Lb=\", np.round(Lb,4))\n",
    "\n",
    "# learning rate\n",
    "LR = 1.0/Lb\n",
    "print(\"Learning rate :\", np.round(LR,4))"
   ]
  },
  {
   "cell_type": "code",
   "execution_count": 6,
   "metadata": {},
   "outputs": [],
   "source": [
    "def batchGD(data, w0=None, learningRate=0.02, momentum=0.0, nesterov=False,\n",
    "            lambda1=0.0, lambda2=0.0, iterations=100, sampleSize=0, progress=False):\n",
    "    \n",
    "    numFeatures = len(data.take(1)[0].features)\n",
    "    trainSize = data.count()\n",
    "    v = np.zeros(numFeatures)\n",
    "    if w0 is None:\n",
    "        w = np.random.normal(size=numFeatures)\n",
    "    else:\n",
    "        w = w0\n",
    "        \n",
    "    f = np.array([data.map(lambda ex: Ji(ex,w)).reduce(add)/trainSize + \\\n",
    "                  lambda1*np.linalg.norm(w,1) + 0.5*lambda2*np.dot(w,w)])\n",
    "    \n",
    "    ts = timeit.default_timer()\n",
    "    \n",
    "    for k in range(iterations):\n",
    "        \n",
    "        if nesterov:\n",
    "            w = w - momentum*v\n",
    "        \n",
    "        #wBroadcast = sc.broadcast(wb)\n",
    "        #gradient = data.map(lambda ex: gradJi(ex,wBroadcast.value)).reduce(add)/trainSize\n",
    "        gradient = data.map(lambda ex: gradJi(ex,w)).reduce(add)/trainSize + \\\n",
    "                   lambda1*np.sum(np.divide(w, np.sqrt(1. + np.power(w,2)))) + \\\n",
    "                   lambda2*w\n",
    "        v = momentum*v + learningRate*gradient\n",
    "        w += -v\n",
    "        \n",
    "        fval = np.array([data.map(lambda ex: Ji(ex,w)).reduce(add)/trainSize + \\\n",
    "                         lambda1*np.linalg.norm(w,1) + 0.5*lambda2*np.dot(w,w)]) \n",
    "        f = np.vstack((f, fval))\n",
    "                \n",
    "        # progress trace\n",
    "        if (progress==True) and (k%(iterations/10)==0):\n",
    "            utilsLab1.show_progress2(k, fval, gradient)\n",
    "            \n",
    "    te = timeit.default_timer()\n",
    "    \n",
    "    if (progress==True):\n",
    "        print(\"\\n*** Gradient Descent *** (\", np.round(te-ts,2), \"seconds)\")\n",
    "        utilsLab1.show_progress2(k, fval, gradient)\n",
    "        \n",
    "    return w, f.reshape(iterations+1,)"
   ]
  },
  {
   "cell_type": "code",
   "execution_count": 7,
   "metadata": {},
   "outputs": [
    {
     "name": "stdout",
     "output_type": "stream",
     "text": [
      "Initialization, w0 = [-0.30400916  1.72403242  0.2450124   0.73709107 -0.78007627  0.30406024\n",
      " -0.08600136  2.02268279  0.04937712 -0.97714234 -0.00607622  1.492562  ]\n"
     ]
    }
   ],
   "source": [
    "W0 = np.random.normal(size=12)\n",
    "ITER_MAX = 1000\n",
    "print(\"Initialization, w0 =\", W0)"
   ]
  },
  {
   "cell_type": "code",
   "execution_count": 8,
   "metadata": {},
   "outputs": [
    {
     "name": "stdout",
     "output_type": "stream",
     "text": [
      "epoch 1     f(w)=0.6485   Grad_f(w)=0.234930\n",
      "epoch 101   f(w)=0.6256   Grad_f(w)=0.005078\n",
      "epoch 201   f(w)=0.6192   Grad_f(w)=0.005007\n",
      "epoch 301   f(w)=0.6130   Grad_f(w)=0.004937\n",
      "epoch 401   f(w)=0.6070   Grad_f(w)=0.004868\n",
      "epoch 501   f(w)=0.6011   Grad_f(w)=0.004800\n",
      "epoch 601   f(w)=0.5954   Grad_f(w)=0.004734\n",
      "epoch 701   f(w)=0.5898   Grad_f(w)=0.004668\n",
      "epoch 801   f(w)=0.5844   Grad_f(w)=0.004605\n",
      "epoch 901   f(w)=0.5791   Grad_f(w)=0.004542\n",
      "\n",
      "*** Gradient Descent *** ( 85.49 seconds)\n",
      "epoch 1000  f(w)=0.5741   Grad_f(w)=0.004481\n"
     ]
    }
   ],
   "source": [
    "w_GD, f_GD = batchGD(trainRDD.cache(), w0=np.array(W0),\n",
    "                     learningRate=LR, \n",
    "                     #lambda1=0.01, lambda2=0.005,\n",
    "                     iterations=ITER_MAX, progress=True)"
   ]
  },
  {
   "cell_type": "code",
   "execution_count": 9,
   "metadata": {},
   "outputs": [
    {
     "name": "stdout",
     "output_type": "stream",
     "text": [
      "epoch 1     f(w)=0.6485   Grad_f(w)=0.234930\n",
      "epoch 101   f(w)=0.5386   Grad_f(w)=0.004053\n",
      "epoch 201   f(w)=0.4743   Grad_f(w)=0.003259\n",
      "epoch 301   f(w)=0.4309   Grad_f(w)=0.002753\n",
      "epoch 401   f(w)=0.3989   Grad_f(w)=0.002411\n",
      "epoch 501   f(w)=0.3737   Grad_f(w)=0.002164\n",
      "epoch 601   f(w)=0.3531   Grad_f(w)=0.001977\n",
      "epoch 701   f(w)=0.3358   Grad_f(w)=0.001829\n",
      "epoch 801   f(w)=0.3207   Grad_f(w)=0.001708\n",
      "epoch 901   f(w)=0.3075   Grad_f(w)=0.001607\n",
      "\n",
      "*** Gradient Descent *** ( 80.76 seconds)\n",
      "epoch 1000  f(w)=0.2959   Grad_f(w)=0.001521\n"
     ]
    }
   ],
   "source": [
    "w_GD_Momentum, f_GD_Momentum = batchGD(trainRDD.cache(), w0=np.array(W0),\n",
    "                                       learningRate=LR, momentum=0.9, nesterov=True,\n",
    "                                       #lambda1=0.01, lambda2=0.005,\n",
    "                                       iterations=ITER_MAX, progress=True)"
   ]
  },
  {
   "cell_type": "code",
   "execution_count": 10,
   "metadata": {},
   "outputs": [
    {
     "data": {
      "image/png": "[encoded data removed]",
      "text/plain": [
       "<matplotlib.figure.Figure at 0x7f6729a4ec18>"
      ]
     },
     "metadata": {},
     "output_type": "display_data"
    }
   ],
   "source": [
    "utilsLab1.iteration_plot(2, f=np.array([f_GD, f_GD_Momentum]).T,  \n",
    "                         label=[\"Gradient Descent\", \n",
    "                                \"Gradient Descent with momentum\"])"
   ]
  },
  {
   "cell_type": "markdown",
   "metadata": {},
   "source": [
    "## Mini-Batch Gradient Descent"
   ]
  },
  {
   "cell_type": "code",
   "execution_count": 14,
   "metadata": {},
   "outputs": [],
   "source": [
    "def miniBatchGD(data, w0=None, learningRate=0.02, momentum=0.0, nesterov=False, \n",
    "                lambda1=0.0, lambda2=0.0,\n",
    "                iterations=10, sampleSize=100, progress=False):\n",
    "    \n",
    "    numFeatures = len(data.take(1)[0].features)\n",
    "    trainSize = data.count()\n",
    "    fraction = float(sampleSize)/float(trainSize)\n",
    "    v = np.zeros(numFeatures)\n",
    "    if w0 is None:\n",
    "        w = np.random.normal(size=numFeatures)\n",
    "    else:\n",
    "        w = w0\n",
    "    \n",
    "    f = np.array([data.map(lambda ex: Ji(ex,w)).reduce(add)/trainSize + \\\n",
    "                  lambda1*np.linalg.norm(w,1) + 0.5*lambda2*np.dot(w,w)])\n",
    "    \n",
    "    ts = timeit.default_timer()\n",
    "    \n",
    "    for k in range(iterations):\n",
    "        \n",
    "        # choose randomly sampleSize examples (sampling)\n",
    "        sampleRDD = trainRDD.sample(True, fraction)\n",
    "        sampleSize = sampleRDD.count()\n",
    "        \n",
    "        if nesterov:\n",
    "            w = w - momentum*v\n",
    "        \n",
    "        #wBroadcast = sc.broadcast(w)\n",
    "        #gradient = sampleRDD.map(lambda ex: gradJi(ex,wBroadcast.value)).reduce(add)/sampleSize\n",
    "        gradient = sampleRDD.map(lambda ex: gradJi(ex,w)).reduce(add)/sampleSize + \\\n",
    "                    lambda1*np.sum(np.divide(w, np.sqrt(1. + np.power(w,2)))) + \\\n",
    "                    lambda2*w\n",
    "        v = momentum*v + learningRate*gradient\n",
    "        w += -v\n",
    "        \n",
    "        fval = np.array([data.map(lambda ex: Ji(ex,w)).reduce(add)/trainSize + \\\n",
    "                         lambda1*np.linalg.norm(w,1) + 0.5*lambda2*np.dot(w,w)]) \n",
    "        f = np.vstack((f, fval))\n",
    "        \n",
    "        # progress trace\n",
    "        if (progress==True) and (k%(iterations/10)==0):\n",
    "            utilsLab1.show_progress2(k, fval, gradient)\n",
    "    \n",
    "    te =  timeit.default_timer()  \n",
    "    \n",
    "    if (progress==True):\n",
    "        print(\"\\n*** Mini-Batch Gradient Descent *** (\", np.round(te-ts,2), \"seconds)\")\n",
    "        utilsLab1.show_progress2(k, fval, gradient)\n",
    "        \n",
    "    return w,f.reshape(iterations+1,)"
   ]
  },
  {
   "cell_type": "code",
   "execution_count": 15,
   "metadata": {},
   "outputs": [
    {
     "name": "stdout",
     "output_type": "stream",
     "text": [
      "epoch 1     f(w)=0.6504   Grad_f(w)=0.226295\n",
      "epoch 101   f(w)=0.6265   Grad_f(w)=0.038310\n",
      "epoch 201   f(w)=0.6194   Grad_f(w)=0.011333\n",
      "epoch 301   f(w)=0.6130   Grad_f(w)=0.029347\n",
      "epoch 401   f(w)=0.6075   Grad_f(w)=0.009436\n",
      "epoch 501   f(w)=0.6011   Grad_f(w)=0.010769\n",
      "epoch 601   f(w)=0.5954   Grad_f(w)=0.024081\n",
      "epoch 701   f(w)=0.5901   Grad_f(w)=0.004656\n",
      "epoch 801   f(w)=0.5844   Grad_f(w)=0.008110\n",
      "epoch 901   f(w)=0.5791   Grad_f(w)=0.005473\n",
      "\n",
      "*** Mini-Batch Gradient Descent *** ( 104.21 seconds)\n",
      "epoch 1000  f(w)=0.5740   Grad_f(w)=0.011013\n"
     ]
    }
   ],
   "source": [
    "w_miniGD, f_miniGD = miniBatchGD(trainRDD.cache(), w0=np.array(W0),\n",
    "                                 learningRate=LR, \n",
    "                                 #lambda1=0.01, lambda2=0.005,\n",
    "                                 iterations=ITER_MAX, sampleSize=1000, progress=True)"
   ]
  },
  {
   "cell_type": "code",
   "execution_count": 16,
   "metadata": {},
   "outputs": [
    {
     "name": "stdout",
     "output_type": "stream",
     "text": [
      "epoch 1     f(w)=0.6523   Grad_f(w)=0.218787\n",
      "epoch 101   f(w)=0.5392   Grad_f(w)=0.051618\n",
      "epoch 201   f(w)=0.4744   Grad_f(w)=0.005429\n",
      "epoch 301   f(w)=0.4310   Grad_f(w)=0.009631\n",
      "epoch 401   f(w)=0.3990   Grad_f(w)=0.007142\n",
      "epoch 501   f(w)=0.3737   Grad_f(w)=0.011609\n",
      "epoch 601   f(w)=0.3529   Grad_f(w)=0.004084\n",
      "epoch 701   f(w)=0.3393   Grad_f(w)=0.027426\n",
      "epoch 801   f(w)=0.3205   Grad_f(w)=0.017979\n",
      "epoch 901   f(w)=0.3073   Grad_f(w)=0.013041\n",
      "\n",
      "*** Mini-Batch Gradient Descent *** ( 101.71 seconds)\n",
      "epoch 1000  f(w)=0.2961   Grad_f(w)=0.015033\n"
     ]
    }
   ],
   "source": [
    "w_miniGD_m, f_miniGD_m = miniBatchGD(trainRDD.cache(), w0=np.array(W0),\n",
    "                                     learningRate=LR, momentum=0.9, nesterov=True,\n",
    "                                     #lambda1=0.01, lambda2=0.005,\n",
    "                                     iterations=ITER_MAX, sampleSize=1000, progress=True)"
   ]
  },
  {
   "cell_type": "code",
   "execution_count": 17,
   "metadata": {},
   "outputs": [
    {
     "data": {
      "image/png": "[encoded data removed]",
      "text/plain": [
       "<matplotlib.figure.Figure at 0x7f672ef2d160>"
      ]
     },
     "metadata": {},
     "output_type": "display_data"
    }
   ],
   "source": [
    "utilsLab1.iteration_plot(4, f=np.array([f_GD, f_GD_Momentum, f_miniGD, f_miniGD_m]).T,  \n",
    "                         label=[\"Gradient Descent\", \n",
    "                                \"Gradient Descent with momentum\", \n",
    "                                \"Mini-Batch Gradient Descent\",\n",
    "                                \"Mini-Batch Gradient Descent with momentum\"])"
   ]
  },
  {
   "cell_type": "code",
   "execution_count": 18,
   "metadata": {},
   "outputs": [
    {
     "name": "stdout",
     "output_type": "stream",
     "text": [
      "Prediction accuracy: 94.37 %\n"
     ]
    }
   ],
   "source": [
    "wopt = w_miniGD_m\n",
    "pred = testRDD.map(lambda ex: (ex.label == utilsLab1.prediction(ex.features,wopt))).collect()   \n",
    "print(\"Prediction accuracy:\", np.round(100.*sum(pred)/len(pred),2), \"%\")"
   ]
  },
  {
   "cell_type": "code",
   "execution_count": 19,
   "metadata": {},
   "outputs": [
    {
     "name": "stdout",
     "output_type": "stream",
     "text": [
      "Confusion matrix, without normalization\n",
      "[[225  38]\n",
      " [  9 563]]\n"
     ]
    },
    {
     "data": {
      "image/png": "[encoded data removed]",
      "text/plain": [
       "<matplotlib.figure.Figure at 0x7f6716276780>"
      ]
     },
     "metadata": {},
     "output_type": "display_data"
    }
   ],
   "source": [
    "from sklearn.metrics import confusion_matrix\n",
    "\n",
    "y_test = np.array(testRDD.map(lambda ex: ex.label).collect())\n",
    "y_pred = np.array(testRDD.map(lambda ex: utilsLab1.prediction(ex.features,wopt,threshold=0.5)).collect())\n",
    "cnf_matrix = confusion_matrix(y_test, y_pred)\n",
    "\n",
    "# plot normalized confusion matrix\n",
    "class_names = [\"churn\", \"no churn\"]\n",
    "plt.figure()\n",
    "utilsLab1.plot_confusion_matrix(cnf_matrix, classes=class_names,\n",
    "                                title='Confusion matrix, without normalization')\n",
    "\n",
    "plt.show()"
   ]
  },
  {
   "cell_type": "code",
   "execution_count": 20,
   "metadata": {},
   "outputs": [],
   "source": [
    "# stop Spark\n",
    "sc.stop()"
   ]
  },
  {
   "cell_type": "markdown",
   "metadata": {},
   "source": [
    "# Références\n",
    "\n",
    "[1] HOGWILD!: A Lock-Free Approach to Parallelizing Stochastic Gradient Descent. Feng Niu, Benjamin Recht, Christopher Re, Stephen J. Wright - http://arxiv.org/abs/1106.5730\n",
    "\n",
    "[2] [Downpour SGD](http://static.googleusercontent.com/media/research.google.com/en//archive/large_deep_networks_nips2012.pdf) - Jeffrey Dean, Greg S. Corrado, Rajat Monga, Kai Chen, Matthieu Devin, Quoc V. Le, Mark Z. Mao, Marc Aurelio Ranzato, Andrew Senior, Paul Tucker, Ke Yang, and Andrew Y. Ng. Large Scale Distributed Deep Networks. NIPS 2012: Neural Information Processing Systems, pages 1–11, 2012."
   ]
  }
 ],
 "metadata": {
  "kernelspec": {
   "display_name": "Python 3",
   "language": "python",
   "name": "python3"
  },
  "language_info": {
   "codemirror_mode": {
    "name": "ipython",
    "version": 3
   },
   "file_extension": ".py",
   "mimetype": "text/x-python",
   "name": "python",
   "nbconvert_exporter": "python",
   "pygments_lexer": "ipython3",
   "version": "3.6.2"
  }
 },
 "nbformat": 4,
 "nbformat_minor": 1
}
