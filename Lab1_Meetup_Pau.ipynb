{
 "cells": [
  {
   "cell_type": "markdown",
   "metadata": {},
   "source": [
    "<small><i>Ce notebook a été créé par Yann Vernaz (2017).</i></small>"
   ]
  },
  {
   "cell_type": "markdown",
   "metadata": {},
   "source": [
    "<center>\n",
    "<a href=\"https://www.meetup.com/fr-FR/Meetup-Machine-Learning-Pau/\" ><img src=\"img/meetup_logo.png\" style=\"float:left; max-width: 100px; display: inline\" alt=\"Meetup\"/></a> \n",
    "<a href=\"https://www.meetup.com/fr-FR/Meetup-Machine-Learning-Pau/\" ><img src=\"img/meetup_ML_pau.png\" style=\"float:center; max-width: 250px; display: inline\"  alt=\"Meetup Machine Learning Pau\"/></a>\n",
    "<a href=\"http://www.helioparc.com\" ><img src=\"img/helioparc_logo.svg\" style=\"float:right; max-width: 200px; display: inline\" alt=\"Technopole Héloparc\"/> </a>\n",
    "</center>\n",
    "<br>\n",
    "<hr>\n",
    "<center><h1>Optimisation distribuée avec Apache Spark</h1></center>\n",
    "<hr>\n",
    "<center><h2>Lab 1 - Les algorithmes du Gradient</h2></center>\n",
    "<hr>"
   ]
  },
  {
   "cell_type": "markdown",
   "metadata": {},
   "source": [
    "Ce _Notebook_ implémente différents algorithmes du gradient. Nous regarderons en particulier l'influence du choix du pas (_learning rate_) et quelques méthodes d'accélération (_momentum_,  Nesterov).\n",
    "\n",
    "## Algorithmes\n",
    "\n",
    "- Batch Gradient Descent (1er et 2ième ordre)\n",
    "- Batch Quasi-Newton (_i.e_ BFGS, L-BFGS)\n",
    "- Stochastic Gradient Descent\n",
    "- Mini-Batch Gradient Descent"
   ]
  },
  {
   "cell_type": "markdown",
   "metadata": {},
   "source": [
    " "
   ]
  }
 ],
 "metadata": {
  "kernelspec": {
   "display_name": "Python 3",
   "language": "python",
   "name": "python3"
  },
  "language_info": {
   "codemirror_mode": {
    "name": "ipython",
    "version": 3
   },
   "file_extension": ".py",
   "mimetype": "text/x-python",
   "name": "python",
   "nbconvert_exporter": "python",
   "pygments_lexer": "ipython3",
   "version": "3.6.2"
  }
 },
 "nbformat": 4,
 "nbformat_minor": 1
}
